{
  "cells": [
    {
      "cell_type": "markdown",
      "metadata": {
        "id": "G12PoXM_cl_G"
      },
      "source": [
        "# Instalaciones"
      ]
    },
    {
      "cell_type": "code",
      "execution_count": null,
      "metadata": {
        "id": "suKoYcJCZKz4"
      },
      "outputs": [],
      "source": [
        "!pip install flask==1.1.2"
      ]
    },
    {
      "cell_type": "code",
      "execution_count": null,
      "metadata": {
        "id": "kq9_QGleZNfT"
      },
      "outputs": [],
      "source": [
        "!pip install requests==2.25.1"
      ]
    },
    {
      "cell_type": "code",
      "execution_count": null,
      "metadata": {
        "id": "24viQDmmZhUS"
      },
      "outputs": [],
      "source": [
        "!pip install flask-ngrok==0.0.25"
      ]
    },
    {
      "cell_type": "markdown",
      "metadata": {
        "id": "Ex5WMnYOcoaI"
      },
      "source": [
        "# Mi Criptomoneda con Python"
      ]
    },
    {
      "cell_type": "code",
      "execution_count": 5,
      "metadata": {
        "id": "f6PFt3UmZJBH"
      },
      "outputs": [],
      "source": [
        "# Importación de las librerías\n",
        "import datetime\n",
        "import hashlib\n",
        "import json\n",
        "import requests\n",
        "from uuid         import uuid4\n",
        "from flask        import Flask, jsonify, request\n",
        "from urllib.parse import urlparse\n",
        "from flask_ngrok  import run_with_ngrok"
      ]
    },
    {
      "cell_type": "code",
      "execution_count": 6,
      "metadata": {
        "id": "wtjtGb-WY5Vv"
      },
      "outputs": [],
      "source": [
        "class Blockchain:\n",
        "    \n",
        "  def __init__(self):\n",
        "    \"\"\" Constructor de la clase. \"\"\"\n",
        "\n",
        "    self.chain = []\n",
        "    self.transactions = []\n",
        "    self.create_block(proof = 1, previous_hash = '0')\n",
        "    self.nodes = set()\n",
        "      \n",
        "  def create_block(self, proof, previous_hash):\n",
        "    \"\"\" Creación de un nuevo bloque. \n",
        "\n",
        "      Arguments:\n",
        "        - proof: Nounce del bloque actual.\n",
        "        - previous_hash: Hash del bloque previo.\n",
        "\n",
        "      Returns: \n",
        "        - block: Nuevo bloque creado. \n",
        "      \"\"\"\n",
        "\n",
        "    block = { 'index'         : len(self.chain)+1,\n",
        "              'timestamp'     : str(datetime.datetime.now()),\n",
        "              'proof'         : proof,\n",
        "              'previous_hash' : previous_hash,\n",
        "              'transactions'  : self.transactions}\n",
        "    self.transactions = []\n",
        "    self.chain.append(block)\n",
        "    return block\n",
        "\n",
        "  def get_previous_block(self):\n",
        "    \"\"\" Obtención del bloque previo de la Blockchain.\n",
        "    \n",
        "      Returns:\n",
        "        - Obtención del último bloque de la Blockchain. \"\"\"\n",
        "\n",
        "    return self.chain[-1]\n",
        "  \n",
        "  def proof_of_work(self, previous_proof):     \n",
        "    \"\"\" Protocolo de concenso Proof of Work (PoW).\n",
        "    \n",
        "      Arguments:\n",
        "        - previous_proof: Nounce del bloque previo.\n",
        "\n",
        "      Returns:\n",
        "        - new_proof: Devolución del nuevo nounce obtenido con PoW. \"\"\"\n",
        "\n",
        "    new_proof = 1\n",
        "    check_proof = False\n",
        "    while check_proof is False:\n",
        "        hash_operation = hashlib.sha256(str(new_proof**2 - previous_proof**2).encode()).hexdigest()\n",
        "        if hash_operation[:4] == '0000':\n",
        "            check_proof = True\n",
        "        else: \n",
        "            new_proof += 1\n",
        "    return new_proof\n",
        "  \n",
        "  def hash(self, block):\n",
        "    \"\"\" Cálculo del hash de un bloque.\n",
        "    \n",
        "    Arguments:\n",
        "        - block: Identifica a un bloque de la Blockchain.\n",
        "    \n",
        "    Returns:\n",
        "        - hash_block: Devuelve el hash del bloque \"\"\"\n",
        "\n",
        "    encoded_block = json.dumps(block, sort_keys = True).encode()\n",
        "    hash_block = hashlib.sha256(encoded_block).hexdigest()\n",
        "    return hash_block\n",
        "  \n",
        "  def is_chain_valid(self, chain):\n",
        "    \"\"\" Determina si la Blockchain es válida. \n",
        "    \n",
        "    Arguments:\n",
        "        - chain: Cadena de bloques que contiene toda la \n",
        "                  información de las transacciones.\n",
        "    \n",
        "    Returns:\n",
        "        - True/False: Devuelve un booleano en función de la validez de la \n",
        "                      Blockchain. (True = Válida, False = Inválida) \"\"\"\n",
        "                      \n",
        "    previous_block = chain[0]\n",
        "    block_index = 1\n",
        "    while block_index < len(chain):\n",
        "        block = chain[block_index]\n",
        "        if block['previous_hash'] != self.hash(previous_block):\n",
        "            return False\n",
        "        previous_proof = previous_block['proof']\n",
        "        proof = block['proof']\n",
        "        hash_operation = hashlib.sha256(str(proof**2 - previous_proof**2).encode()).hexdigest()\n",
        "        if hash_operation[:4] != '0000':\n",
        "            return False\n",
        "        previous_block = block\n",
        "        block_index += 1\n",
        "    return True\n",
        "  \n",
        "  def add_transaction(self, sender, receiver, amount):\n",
        "    \"\"\" Realización de una transacción.\n",
        "    \n",
        "    Arguments:\n",
        "        - sender: Persona que hace la transacción\n",
        "        - receiver: Persona que recibe la transacción\n",
        "        - amount: Cantidad de criptomonedas enviadas\n",
        "\n",
        "    Returns: \n",
        "        - Devolución del índice superior al último bloque\n",
        "    \"\"\"\n",
        "\n",
        "    self.transactions.append({'sender'  : sender,\n",
        "                              'receiver': receiver, \n",
        "                              'amount'  : amount})\n",
        "    previous_block = self.get_previous_block()\n",
        "    return previous_block['index'] + 1\n",
        "\n",
        "  def add_node(self, address):\n",
        "    \"\"\" Nuevo nodo en la Blockchain.\n",
        "    \n",
        "      Arguments:\n",
        "        - address: Dirección del nuevo nodo\n",
        "    \"\"\"\n",
        "\n",
        "    parsed_url = urlparse(address)\n",
        "    self.nodes.add(parsed_url.netloc)\n",
        "  \n",
        "  def replace_chain(self):\n",
        "    \"\"\" Remplazo de la cadena por la cadena más larga, \n",
        "    siempre y cuando sea válida. \"\"\"\n",
        "    \n",
        "    network = self.nodes\n",
        "    longest_chain = None\n",
        "    max_length = len(self.chain)\n",
        "    for node in network:\n",
        "        response = requests.get(f'http://{node}/get_chain')\n",
        "        if response.status_code == 200:\n",
        "            length = response.json()['length']\n",
        "            chain = response.json()['chain']\n",
        "            if length > max_length and self.is_chain_valid(chain):\n",
        "                max_length = length\n",
        "                longest_chain = chain\n",
        "    if longest_chain: \n",
        "        self.chain = longest_chain\n",
        "        return True\n",
        "    return False"
      ]
    },
    {
      "cell_type": "code",
      "execution_count": 8,
      "metadata": {
        "id": "oqozjmL-Zelo"
      },
      "outputs": [],
      "source": [
        "# Minado de un Bloque de la Cadena\n",
        "\n",
        "# Crear una aplicación web\n",
        "app = Flask(__name__)\n",
        "run_with_ngrok(app)  \n",
        "\n",
        "# Si se obtiene un error 500, actualizar flask, reiniciar spyder y ejecutar la siguiente línea\n",
        "app.config['JSONIFY_PRETTYPRINT_REGULAR'] = False\n",
        "\n",
        "# Crear la dirección del nodo en el puerto 5000\n",
        "node_address = str(uuid4()).replace('-', '')\n",
        "\n",
        "# Crear una Blockchain\n",
        "blockchain = Blockchain()\n",
        "\n",
        "\n",
        "@app.route('/mine_block', methods=['GET'])\n",
        "def mine_block():\n",
        "  \"\"\" Minado de un nuevo bloque \"\"\" \n",
        "\n",
        "  previous_block = blockchain.get_previous_block()\n",
        "  previous_proof = previous_block['proof']\n",
        "  proof = blockchain.proof_of_work(previous_proof)\n",
        "  previous_hash = blockchain.hash(previous_block)\n",
        "  blockchain.add_transaction(sender = node_address, receiver = \"Susana Horia\", amount = 10)\n",
        "  block = blockchain.create_block(proof, previous_hash)\n",
        "  response = {'message'       : '¡Felicidades, nuevo bloque minado!', \n",
        "              'index'         : block['index'],\n",
        "              'timestamp'     : block['timestamp'],\n",
        "              'proof'         : block['proof'],\n",
        "              'previous_hash' : block['previous_hash'],\n",
        "              'transactions'  : block['transactions']}\n",
        "  return jsonify(response), 200\n",
        "\n",
        "@app.route('/get_chain', methods=['GET'])\n",
        "def get_chain():\n",
        "  \"\"\" Obtención de la cadena de bloques al completo \"\"\"\n",
        "\n",
        "  response = {'chain'   : blockchain.chain, \n",
        "              'length'  : len(blockchain.chain)}\n",
        "  return jsonify(response), 200\n",
        "\n",
        "@app.route('/is_valid', methods = ['GET'])\n",
        "def is_valid():\n",
        "  \"\"\" Comprobación de si la cadena de bloques es válida \"\"\"\n",
        "\n",
        "  is_valid = blockchain.is_chain_valid(blockchain.chain)\n",
        "  if is_valid:\n",
        "      response = {'message' : 'Todo correcto. La cadena de bloques es válida.'}\n",
        "  else:\n",
        "      response = {'message' : 'UPS. La cadena de bloques NO es válida.'}\n",
        "  return jsonify(response), 200  \n",
        "\n",
        "@app.route('/add_transaction', methods = ['POST'])\n",
        "def add_transaction():\n",
        "  \"\"\" Añadir una nueva transacción a la cadena de bloques \"\"\"\n",
        "\n",
        "  json = request.get_json()\n",
        "  transaction_keys = ['sender', 'receiver', 'amount']\n",
        "  if not all(key in json for key in transaction_keys):\n",
        "      return 'Faltan algunos elementos de la transacción', 400\n",
        "  index = blockchain.add_transaction(json['sender'], json['receiver'], json['amount'])\n",
        "  response = {'message': f'La transacción será añadida al bloque {index}'}\n",
        "  return jsonify(response), 201\n",
        "    \n",
        "# Descentralización de la Cadena de Bloques\n",
        "\n",
        "# Conectar nuevos nodos\n",
        "@app.route('/connect_node', methods = ['POST'])\n",
        "def connect_node():\n",
        "  json = request.get_json()\n",
        "  nodes = json.get('nodes')\n",
        "  if nodes is None: \n",
        "      return 'No hay nodos para añadir', 400\n",
        "  for node in nodes:\n",
        "      blockchain.add_node(node)\n",
        "  response = {'message'     : 'Todos los nodos han sido conectados. La Blockchain de JoanCoins contiene ahora los nodos siguientes: ',\n",
        "              'total_nodes' : list(blockchain.nodes)}\n",
        "  return jsonify(response), 201\n",
        "\n",
        "@app.route('/replace_chain', methods = ['GET'])\n",
        "def replace_chain():\n",
        "  \"\"\" Reemplazar la cadena por la más larga (si es necesario) \"\"\"\n",
        "\n",
        "  is_chain_replaced = blockchain.replace_chain()\n",
        "  if is_chain_replaced:\n",
        "      response = {'message' : 'Los nodos tenían diferentes cadenas, se ha remplazado por la Blockchain más larga.',\n",
        "                  'new_chain': blockchain.chain}\n",
        "  else:\n",
        "      response = {'message'       : 'Todo correcto. La Blockchain en todos los nodos ya es la más larga.',\n",
        "                  'actual_chain'  : blockchain.chain}\n",
        "  return jsonify(response), 200  "
      ]
    },
    {
      "cell_type": "code",
      "execution_count": 9,
      "metadata": {
        "colab": {
          "base_uri": "https://localhost:8080/"
        },
        "id": "ugVnFGyfa-ND",
        "outputId": "705acf21-ecc0-476d-8346-34d9bd132621"
      },
      "outputs": [
        {
          "output_type": "stream",
          "name": "stdout",
          "text": [
            " * Serving Flask app \"__main__\" (lazy loading)\n",
            " * Environment: production\n",
            "\u001b[31m   WARNING: This is a development server. Do not use it in a production deployment.\u001b[0m\n",
            "\u001b[2m   Use a production WSGI server instead.\u001b[0m\n",
            " * Debug mode: off\n"
          ]
        },
        {
          "output_type": "stream",
          "name": "stderr",
          "text": [
            " * Running on http://127.0.0.1:5000/ (Press CTRL+C to quit)\n"
          ]
        },
        {
          "output_type": "stream",
          "name": "stdout",
          "text": [
            " * Running on http://2b9e-34-67-156-176.ngrok.io\n",
            " * Traffic stats available on http://127.0.0.1:4040\n"
          ]
        },
        {
          "output_type": "stream",
          "name": "stderr",
          "text": [
            "127.0.0.1 - - [08/Feb/2022 17:30:28] \"\u001b[37mGET /get_chain HTTP/1.1\u001b[0m\" 200 -\n",
            "127.0.0.1 - - [08/Feb/2022 17:31:47] \"\u001b[37mGET /mine_block HTTP/1.1\u001b[0m\" 200 -\n",
            "127.0.0.1 - - [08/Feb/2022 17:32:14] \"\u001b[37mGET /get_chain HTTP/1.1\u001b[0m\" 200 -\n",
            "127.0.0.1 - - [08/Feb/2022 17:32:34] \"\u001b[37mGET /is_valid HTTP/1.1\u001b[0m\" 200 -\n",
            "127.0.0.1 - - [08/Feb/2022 17:33:48] \"\u001b[33mGET /add_transactions HTTP/1.1\u001b[0m\" 404 -\n",
            "127.0.0.1 - - [08/Feb/2022 17:34:15] \"\u001b[37mGET /get_chain HTTP/1.1\u001b[0m\" 200 -\n"
          ]
        }
      ],
      "source": [
        "# Ejecución de la app con Google Colab\n",
        "app.run()\n",
        "\n",
        "# Ejecución externa a Google colab\n",
        "#app.run(host = '0.0.0.0', port = 5002)"
      ]
    }
  ],
  "metadata": {
    "colab": {
      "collapsed_sections": [],
      "name": "criptomoneda_5002.ipynb",
      "provenance": []
    },
    "kernelspec": {
      "display_name": "Python 3",
      "name": "python3"
    },
    "language_info": {
      "name": "python"
    }
  },
  "nbformat": 4,
  "nbformat_minor": 0
}